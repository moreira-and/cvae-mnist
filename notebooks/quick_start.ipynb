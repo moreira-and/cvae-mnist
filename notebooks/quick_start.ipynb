{
 "cells": [
  {
   "cell_type": "markdown",
   "id": "bcee1b8e",
   "metadata": {},
   "source": [
    "# Quick Start - CCDS Template\n",
    "\n",
    "This notebook runs the complete flow of a typical Data Science project following the CCDS format."
   ]
  },
  {
   "cell_type": "markdown",
   "id": "3f5ae346",
   "metadata": {},
   "source": [
    "## 1. Setup"
   ]
  },
  {
   "cell_type": "code",
   "execution_count": 1,
   "id": "139aa202",
   "metadata": {},
   "outputs": [],
   "source": [
    "from pathlib import Path\n",
    "import sys\n",
    "import os\n",
    "import time\n",
    "\n",
    "start_time = time.time()\n",
    "# Pega o caminho do diretório atual onde o notebook está rodando\n",
    "notebook_dir = Path(os.getcwd())\n",
    "\n",
    "# Ajuste a quantidade de níveis para chegar na raiz do projeto\n",
    "project_dir = notebook_dir.parents[0]  # Ajuste conforme sua estrutura\n",
    "\n",
    "src_dir = project_dir / \"src\"\n",
    "sys.path.append(str(src_dir))"
   ]
  },
  {
   "cell_type": "markdown",
   "id": "30025ff7",
   "metadata": {},
   "source": [
    "## 2. Load Raw Data"
   ]
  },
  {
   "cell_type": "code",
   "execution_count": 2,
   "id": "36648b66",
   "metadata": {},
   "outputs": [
    {
     "name": "stderr",
     "output_type": "stream",
     "text": [
      "\u001b[32m2025-09-20 00:18:22.935\u001b[0m | \u001b[1mINFO    \u001b[0m | \u001b[36msrc.config\u001b[0m:\u001b[36m<module>\u001b[0m:\u001b[36m28\u001b[0m - \u001b[1mPROJ_ROOT path is: C:\\Repositories\\cvae-mnist\u001b[0m\n"
     ]
    },
    {
     "name": "stdout",
     "output_type": "stream",
     "text": [
      "Using device: cpu\n"
     ]
    }
   ],
   "source": [
    "from src.dataset import main as load_dataset"
   ]
  },
  {
   "cell_type": "code",
   "execution_count": 3,
   "id": "82758066",
   "metadata": {},
   "outputs": [
    {
     "name": "stdout",
     "output_type": "stream",
     "text": [
      "\u001b[32m2025-09-20 00:18:25.284\u001b[0m | \u001b[1mINFO    \u001b[0m | \u001b[36msrc.dataset\u001b[0m:\u001b[36mmain\u001b[0m:\u001b[36m31\u001b[0m - \u001b[1mStarting dataset processing...\u001b[0m\n",
      "Saved C:\\Repositories\\cvae-mnist\\data\\processed\\mnist_train.pt with 60000 samples.\n",
      "Saved C:\\Repositories\\cvae-mnist\\data\\processed\\mnist_test.pt with 10000 samples.\n",
      "\u001b[32m2025-09-20 00:18:45.834\u001b[0m | \u001b[32m\u001b[1mSUCCESS \u001b[0m | \u001b[36msrc.dataset\u001b[0m:\u001b[36mmain\u001b[0m:\u001b[36m41\u001b[0m - \u001b[32m\u001b[1mProcessing dataset complete. Elapsed time: 20.55 seconds\u001b[0m\n"
     ]
    }
   ],
   "source": [
    "load_dataset()"
   ]
  },
  {
   "cell_type": "markdown",
   "id": "e3d3cd80",
   "metadata": {},
   "source": [
    "## 3. Model Training"
   ]
  },
  {
   "cell_type": "code",
   "execution_count": 4,
   "id": "c2f659ff",
   "metadata": {},
   "outputs": [],
   "source": [
    "from src.modeling.train import main as train_models"
   ]
  },
  {
   "cell_type": "code",
   "execution_count": 5,
   "id": "594c65db",
   "metadata": {},
   "outputs": [
    {
     "name": "stdout",
     "output_type": "stream",
     "text": [
      "\u001b[32m2025-09-20 00:18:45.899\u001b[0m | \u001b[1mINFO    \u001b[0m | \u001b[36msrc.modeling.train\u001b[0m:\u001b[36mmain\u001b[0m:\u001b[36m101\u001b[0m - \u001b[1mTraining CVAE model...\u001b[0m\n",
      "\u001b[32m2025-09-20 00:18:45.999\u001b[0m | \u001b[1mINFO    \u001b[0m | \u001b[36msrc.modeling.train\u001b[0m:\u001b[36mmain\u001b[0m:\u001b[36m108\u001b[0m - \u001b[1mDataset loaded.\u001b[0m\n",
      "\u001b[32m2025-09-20 00:18:46.008\u001b[0m | \u001b[1mINFO    \u001b[0m | \u001b[36msrc.modeling.train\u001b[0m:\u001b[36mmain\u001b[0m:\u001b[36m113\u001b[0m - \u001b[1mModel initialized.\u001b[0m\n"
     ]
    },
    {
     "name": "stderr",
     "output_type": "stream",
     "text": [
      " 10%|█         | 1/10 [00:53<08:05, 53.94s/it]"
     ]
    },
    {
     "name": "stdout",
     "output_type": "stream",
     "text": [
      "\u001b[32m2025-09-20 00:19:39.947\u001b[0m | \u001b[1mINFO    \u001b[0m | \u001b[36msrc.modeling.train\u001b[0m:\u001b[36mmain\u001b[0m:\u001b[36m137\u001b[0m - \u001b[1mEpoch [1/10], Loss: 147.6755\u001b[0m\n"
     ]
    },
    {
     "name": "stderr",
     "output_type": "stream",
     "text": [
      " 20%|██        | 2/10 [01:48<07:16, 54.56s/it]"
     ]
    },
    {
     "name": "stdout",
     "output_type": "stream",
     "text": [
      "\u001b[32m2025-09-20 00:20:34.945\u001b[0m | \u001b[1mINFO    \u001b[0m | \u001b[36msrc.modeling.train\u001b[0m:\u001b[36mmain\u001b[0m:\u001b[36m137\u001b[0m - \u001b[1mEpoch [2/10], Loss: 94.9728\u001b[0m\n"
     ]
    },
    {
     "name": "stderr",
     "output_type": "stream",
     "text": [
      " 30%|███       | 3/10 [02:47<06:35, 56.46s/it]"
     ]
    },
    {
     "name": "stdout",
     "output_type": "stream",
     "text": [
      "\u001b[32m2025-09-20 00:21:33.671\u001b[0m | \u001b[1mINFO    \u001b[0m | \u001b[36msrc.modeling.train\u001b[0m:\u001b[36mmain\u001b[0m:\u001b[36m137\u001b[0m - \u001b[1mEpoch [3/10], Loss: 89.7934\u001b[0m\n"
     ]
    },
    {
     "name": "stderr",
     "output_type": "stream",
     "text": [
      " 40%|████      | 4/10 [03:43<05:37, 56.19s/it]"
     ]
    },
    {
     "name": "stdout",
     "output_type": "stream",
     "text": [
      "\u001b[32m2025-09-20 00:22:29.445\u001b[0m | \u001b[1mINFO    \u001b[0m | \u001b[36msrc.modeling.train\u001b[0m:\u001b[36mmain\u001b[0m:\u001b[36m137\u001b[0m - \u001b[1mEpoch [4/10], Loss: 87.8240\u001b[0m\n"
     ]
    },
    {
     "name": "stderr",
     "output_type": "stream",
     "text": [
      " 50%|█████     | 5/10 [04:41<04:44, 56.82s/it]"
     ]
    },
    {
     "name": "stdout",
     "output_type": "stream",
     "text": [
      "\u001b[32m2025-09-20 00:23:27.383\u001b[0m | \u001b[1mINFO    \u001b[0m | \u001b[36msrc.modeling.train\u001b[0m:\u001b[36mmain\u001b[0m:\u001b[36m137\u001b[0m - \u001b[1mEpoch [5/10], Loss: 86.6553\u001b[0m\n"
     ]
    },
    {
     "name": "stderr",
     "output_type": "stream",
     "text": [
      " 60%|██████    | 6/10 [05:40<03:50, 57.69s/it]"
     ]
    },
    {
     "name": "stdout",
     "output_type": "stream",
     "text": [
      "\u001b[32m2025-09-20 00:24:26.774\u001b[0m | \u001b[1mINFO    \u001b[0m | \u001b[36msrc.modeling.train\u001b[0m:\u001b[36mmain\u001b[0m:\u001b[36m137\u001b[0m - \u001b[1mEpoch [6/10], Loss: 85.8468\u001b[0m\n"
     ]
    },
    {
     "name": "stderr",
     "output_type": "stream",
     "text": [
      " 70%|███████   | 7/10 [06:43<02:58, 59.49s/it]"
     ]
    },
    {
     "name": "stdout",
     "output_type": "stream",
     "text": [
      "\u001b[32m2025-09-20 00:25:29.956\u001b[0m | \u001b[1mINFO    \u001b[0m | \u001b[36msrc.modeling.train\u001b[0m:\u001b[36mmain\u001b[0m:\u001b[36m137\u001b[0m - \u001b[1mEpoch [7/10], Loss: 85.2330\u001b[0m\n"
     ]
    },
    {
     "name": "stderr",
     "output_type": "stream",
     "text": [
      " 80%|████████  | 8/10 [07:40<01:57, 58.64s/it]"
     ]
    },
    {
     "name": "stdout",
     "output_type": "stream",
     "text": [
      "\u001b[32m2025-09-20 00:26:26.780\u001b[0m | \u001b[1mINFO    \u001b[0m | \u001b[36msrc.modeling.train\u001b[0m:\u001b[36mmain\u001b[0m:\u001b[36m137\u001b[0m - \u001b[1mEpoch [8/10], Loss: 84.7294\u001b[0m\n"
     ]
    },
    {
     "name": "stderr",
     "output_type": "stream",
     "text": [
      " 90%|█████████ | 9/10 [08:38<00:58, 58.49s/it]"
     ]
    },
    {
     "name": "stdout",
     "output_type": "stream",
     "text": [
      "\u001b[32m2025-09-20 00:27:24.946\u001b[0m | \u001b[1mINFO    \u001b[0m | \u001b[36msrc.modeling.train\u001b[0m:\u001b[36mmain\u001b[0m:\u001b[36m137\u001b[0m - \u001b[1mEpoch [9/10], Loss: 84.2979\u001b[0m\n"
     ]
    },
    {
     "name": "stderr",
     "output_type": "stream",
     "text": [
      "100%|██████████| 10/10 [09:36<00:00, 57.68s/it]"
     ]
    },
    {
     "name": "stdout",
     "output_type": "stream",
     "text": [
      "\u001b[32m2025-09-20 00:28:22.819\u001b[0m | \u001b[1mINFO    \u001b[0m | \u001b[36msrc.modeling.train\u001b[0m:\u001b[36mmain\u001b[0m:\u001b[36m137\u001b[0m - \u001b[1mEpoch [10/10], Loss: 83.9925\u001b[0m\n",
      "\u001b[32m2025-09-20 00:28:22.825\u001b[0m | \u001b[1mINFO    \u001b[0m | \u001b[36msrc.modeling.train\u001b[0m:\u001b[36m_save_model\u001b[0m:\u001b[36m31\u001b[0m - \u001b[1mSaving the model.\u001b[0m\n",
      "\u001b[32m2025-09-20 00:28:22.836\u001b[0m | \u001b[32m\u001b[1mSUCCESS \u001b[0m | \u001b[36msrc.modeling.train\u001b[0m:\u001b[36mmain\u001b[0m:\u001b[36m145\u001b[0m - \u001b[32m\u001b[1mTraining complete. Elapsed time: 576.94 seconds\u001b[0m\n"
     ]
    },
    {
     "name": "stderr",
     "output_type": "stream",
     "text": [
      "\n"
     ]
    }
   ],
   "source": [
    "train_models()"
   ]
  },
  {
   "cell_type": "markdown",
   "id": "88de56e1",
   "metadata": {},
   "source": [
    "## 4. Generate"
   ]
  },
  {
   "cell_type": "code",
   "execution_count": 6,
   "id": "084314dd",
   "metadata": {},
   "outputs": [],
   "source": [
    "from src.modeling.generate import main as generate_image"
   ]
  },
  {
   "cell_type": "code",
   "execution_count": 7,
   "id": "fb3e0431",
   "metadata": {},
   "outputs": [],
   "source": [
    "digit=7"
   ]
  },
  {
   "cell_type": "code",
   "execution_count": 8,
   "id": "03d69c07",
   "metadata": {},
   "outputs": [
    {
     "name": "stdout",
     "output_type": "stream",
     "text": [
      "\u001b[32m2025-09-20 00:28:23.431\u001b[0m | \u001b[1mINFO    \u001b[0m | \u001b[36msrc.modeling.generate\u001b[0m:\u001b[36mmain\u001b[0m:\u001b[36m122\u001b[0m - \u001b[1mRunning inference...\u001b[0m\n",
      "\u001b[32m2025-09-20 00:28:23.431\u001b[0m | \u001b[1mINFO    \u001b[0m | \u001b[36msrc.modeling.generate\u001b[0m:\u001b[36mmodel_fn\u001b[0m:\u001b[36m22\u001b[0m - \u001b[1mStarting model_fn to load the model.\u001b[0m\n",
      "\u001b[32m2025-09-20 00:28:23.432\u001b[0m | \u001b[1mINFO    \u001b[0m | \u001b[36msrc.modeling.generate\u001b[0m:\u001b[36mmodel_fn\u001b[0m:\u001b[36m29\u001b[0m - \u001b[1mModel parameters: latent_dim=100, num_classes=10, input_channels=1\u001b[0m\n",
      "\u001b[32m2025-09-20 00:28:23.445\u001b[0m | \u001b[1mINFO    \u001b[0m | \u001b[36msrc.modeling.generate\u001b[0m:\u001b[36mmodel_fn\u001b[0m:\u001b[36m35\u001b[0m - \u001b[1mCVAE model initialized.\u001b[0m\n",
      "\u001b[32m2025-09-20 00:28:23.445\u001b[0m | \u001b[1mINFO    \u001b[0m | \u001b[36msrc.modeling.generate\u001b[0m:\u001b[36mmodel_fn\u001b[0m:\u001b[36m39\u001b[0m - \u001b[1mLoading model state from: C:\\Repositories\\cvae-mnist\\models\\model.pth\u001b[0m\n",
      "\u001b[32m2025-09-20 00:28:23.470\u001b[0m | \u001b[1mINFO    \u001b[0m | \u001b[36msrc.modeling.generate\u001b[0m:\u001b[36mmodel_fn\u001b[0m:\u001b[36m43\u001b[0m - \u001b[1mModel state loaded successfully.\u001b[0m\n",
      "\u001b[32m2025-09-20 00:28:23.470\u001b[0m | \u001b[1mINFO    \u001b[0m | \u001b[36msrc.modeling.generate\u001b[0m:\u001b[36mmodel_fn\u001b[0m:\u001b[36m49\u001b[0m - \u001b[1mModel set to evaluation mode.\u001b[0m\n",
      "\u001b[32m2025-09-20 00:28:23.471\u001b[0m | \u001b[1mINFO    \u001b[0m | \u001b[36msrc.modeling.generate\u001b[0m:\u001b[36mpredict_fn\u001b[0m:\u001b[36m92\u001b[0m - \u001b[1mStarting prediction with input: 7\u001b[0m\n",
      "\u001b[32m2025-09-20 00:28:23.471\u001b[0m | \u001b[1mINFO    \u001b[0m | \u001b[36msrc.modeling.generate\u001b[0m:\u001b[36mpredict_fn\u001b[0m:\u001b[36m97\u001b[0m - \u001b[1mlatent_dim=100, num_classes=10\u001b[0m\n",
      "\u001b[32m2025-09-20 00:28:23.471\u001b[0m | \u001b[1mINFO    \u001b[0m | \u001b[36msrc.modeling.generate\u001b[0m:\u001b[36mpredict_fn\u001b[0m:\u001b[36m102\u001b[0m - \u001b[1mSampled latent vector with shape: torch.Size([1, 100])\u001b[0m\n",
      "\u001b[32m2025-09-20 00:28:23.471\u001b[0m | \u001b[1mINFO    \u001b[0m | \u001b[36msrc.modeling.generate\u001b[0m:\u001b[36mpredict_fn\u001b[0m:\u001b[36m106\u001b[0m - \u001b[1mOne-hot label shape: torch.Size([1, 10])\u001b[0m\n",
      "\u001b[32m2025-09-20 00:28:23.477\u001b[0m | \u001b[1mINFO    \u001b[0m | \u001b[36msrc.modeling.generate\u001b[0m:\u001b[36mpredict_fn\u001b[0m:\u001b[36m109\u001b[0m - \u001b[1mGenerated decoder output.\u001b[0m\n",
      "\u001b[32m2025-09-20 00:28:23.752\u001b[0m | \u001b[32m\u001b[1mSUCCESS \u001b[0m | \u001b[36msrc.modeling.generate\u001b[0m:\u001b[36mmain\u001b[0m:\u001b[36m133\u001b[0m - \u001b[32m\u001b[1mInference complete. Elapsed time: 0.32 seconds\u001b[0m\n"
     ]
    },
    {
     "data": {
      "image/png": "[encoded data removed]",
      "text/plain": [
       "<Figure size 640x480 with 1 Axes>"
      ]
     },
     "metadata": {},
     "output_type": "display_data"
    }
   ],
   "source": [
    "generate_image(digit=digit)"
   ]
  },
  {
   "cell_type": "code",
   "execution_count": 9,
   "id": "e945aa7e",
   "metadata": {},
   "outputs": [],
   "source": [
    "end_time = time.time()"
   ]
  },
  {
   "cell_type": "markdown",
   "id": "47c29aca",
   "metadata": {},
   "source": [
    "## 5. Run Experiment"
   ]
  },
  {
   "cell_type": "code",
   "execution_count": 10,
   "id": "27b254b3",
   "metadata": {},
   "outputs": [],
   "source": [
    "from src.config import mlflow, MODELS_DIR, FIGURES_DIR, CONFIG_FILE"
   ]
  },
  {
   "cell_type": "code",
   "execution_count": 11,
   "id": "989736f0",
   "metadata": {},
   "outputs": [
    {
     "data": {
      "text/plain": [
       "<Experiment: artifact_location='file:///C:/Repositories/cvae-mnist/mlruns/296919351382578903', creation_time=1758336855947, experiment_id='296919351382578903', last_update_time=1758336855947, lifecycle_stage='active', name='CVAE_MNST', tags={}>"
      ]
     },
     "execution_count": 11,
     "metadata": {},
     "output_type": "execute_result"
    }
   ],
   "source": [
    "mlflow.set_experiment(\"CVAE_MNST\")"
   ]
  },
  {
   "cell_type": "code",
   "execution_count": 12,
   "id": "62dbc2d6",
   "metadata": {},
   "outputs": [],
   "source": [
    "with mlflow.start_run() as run:\n",
    "    # arquivos individuais -> log_artifact\n",
    "    mlflow.log_artifact(str(MODELS_DIR / \"model.pth\"), artifact_path=\"models\")\n",
    "    mlflow.log_artifact(str(FIGURES_DIR / f\"cvae_digit{digit}.png\"), artifact_path=\"figures\")\n",
    "    mlflow.log_artifact(str(CONFIG_FILE), artifact_path=\"config\")\n",
    "    mlflow.log_param(\"elapsed_time\", end_time - start_time)"
   ]
  }
 ],
 "metadata": {
  "kernelspec": {
   "display_name": "src-py3.10",
   "language": "python",
   "name": "python3"
  },
  "language_info": {
   "codemirror_mode": {
    "name": "ipython",
    "version": 3
   },
   "file_extension": ".py",
   "mimetype": "text/x-python",
   "name": "python",
   "nbconvert_exporter": "python",
   "pygments_lexer": "ipython3",
   "version": "3.10.5"
  }
 },
 "nbformat": 4,
 "nbformat_minor": 5
}
